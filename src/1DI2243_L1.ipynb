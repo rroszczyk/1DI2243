{
  "nbformat": 4,
  "nbformat_minor": 0,
  "metadata": {
    "colab": {
      "name": "1DI2243_L1.ipynb",
      "provenance": [],
      "collapsed_sections": [],
      "authorship_tag": "ABX9TyOw7imLYMK+/afUlWda2cel",
      "include_colab_link": true
    },
    "kernelspec": {
      "name": "python3",
      "display_name": "Python 3"
    },
    "language_info": {
      "name": "python"
    }
  },
  "cells": [
    {
      "cell_type": "markdown",
      "metadata": {
        "id": "view-in-github",
        "colab_type": "text"
      },
      "source": [
        "<a href=\"https://colab.research.google.com/github/rroszczyk/1DI2243/blob/main/src/1DI2243_L1.ipynb\" target=\"_parent\"><img src=\"https://colab.research.google.com/assets/colab-badge.svg\" alt=\"Open In Colab\"/></a>"
      ]
    },
    {
      "cell_type": "code",
      "metadata": {
        "id": "XMsj12txwEf5"
      },
      "source": [
        "import matplotlib.pyplot as plt\n",
        "import numpy as np\n",
        "import string\n",
        "import requests\n",
        "\n",
        "def pobierzPlik(url, nazwaPliku):\n",
        "    req = requests.get(url, stream=True)\n",
        "    with open(nazwaPliku, 'wb') as uchwytPliku:\n",
        "        for chunk in req.iter_content():\n",
        "            uchwytPliku.write(chunk)\n",
        "\n",
        "nazwyPlikow = ['r01.jpg', 'r02.jpg', 'r03.jpg', 'r04.jpg', 'r05.jpg', 'r06.jpg', 'r07.jpg', 'r08.jpg', 'r09.jpg', 'r10.jpg', 'r11.jpg', 'r12.jpg']\n",
        "for nazwa in nazwyPlikow:\n",
        "  pobierzPlik(\"https://github.com/rroszczyk/1DI2243/raw/main/L1/\"+nazwa, nazwa)               \n"
      ],
      "execution_count": 1,
      "outputs": []
    }
  ]
}