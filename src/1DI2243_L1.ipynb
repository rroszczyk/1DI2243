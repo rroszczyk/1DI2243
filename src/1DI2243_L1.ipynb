{
  "nbformat": 4,
  "nbformat_minor": 0,
  "metadata": {
    "colab": {
      "name": "1DI2243_L1.ipynb",
      "provenance": []
    },
    "kernelspec": {
      "name": "python3",
      "display_name": "Python 3"
    },
    "language_info": {
      "name": "python"
    }
  },
  "cells": [
    {
      "cell_type": "code",
      "metadata": {
        "id": "XMsj12txwEf5"
      },
      "source": [
        "import matplotlib.pyplot as plt\n",
        "import numpy as np\n",
        "import string\n",
        "import requests\n",
        "\n",
        "def pobierzPlik(url, nazwaPliku):\n",
        "    req = requests.get(url, stream=True)\n",
        "    with open(nazwaPliku, 'wb') as uchwytPliku:\n",
        "        for chunk in req.iter_content():\n",
        "            uchwytPliku.write(chunk)\n",
        "\n",
        "nazwyPlikow = ['a1.jpg', 'a2.jpg', 'a3.jpg', 'a4.jpg', 'a5.jpg', 'a6.jpg', 'a7.jpg', 'a8.jpg', 'a9.jpg', 'a10.jpg', 'a11.jpg', 'a12.jpg']\n",
        "for nazwa in nazwyPlikow:\n",
        "  pobierzPlik(\"https://github.com/rroszczyk/1DI2243/raw/main/L1/\"+nazwa, nazwa)               \n"
      ],
      "execution_count": 1,
      "outputs": []
    }
  ]
}