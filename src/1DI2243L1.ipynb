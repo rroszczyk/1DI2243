{
  "nbformat": 4,
  "nbformat_minor": 0,
  "metadata": {
    "colab": {
      "name": "1DI2243L1.ipynb",
      "provenance": [],
      "collapsed_sections": []
    },
    "kernelspec": {
      "name": "python3",
      "display_name": "Python 3"
    },
    "language_info": {
      "name": "python"
    }
  },
  "cells": [
    {
      "cell_type": "code",
      "metadata": {
        "id": "nvdYVdIqj-XM"
      },
      "source": [
        "!pip install  opencv-python==3.4.2.17\n",
        "!pip install  opencv-contrib-python==3.4.2.17\n",
        "import cv2 \n",
        "\n",
        "import matplotlib.pyplot as plt\n",
        "import numpy as np\n",
        "%matplotlib inline\n",
        "\n",
        "import requests\n",
        "\n",
        "def pobierzPlik(url, nazwaPliku):\n",
        "    req = requests.get(url, stream=True)\n",
        "    with open(nazwaPliku, 'wb') as uchwytPliku:\n",
        "        for chunk in req.iter_content():\n",
        "            uchwytPliku.write(chunk)\n",
        "\n",
        "nazwyPlikow = ['cameraman.tif']\n",
        "for nazwa in nazwyPlikow:\n",
        "  pobierzPlik(\"https://github.com/rroszczyk/1DI2243/raw/main/data/\"+nazwa, nazwa)\n"
      ],
      "execution_count": null,
      "outputs": []
    },
    {
      "cell_type": "code",
      "metadata": {
        "id": "G7q62gYrmBzK"
      },
      "source": [
        "img1 = cv2.imread('cameraman.tif')  \n",
        "sift = cv2.xfeatures2d.SIFT_create()\n",
        "(kps, descs) = sift.detectAndCompute(img1, None)\n",
        "print(\"SIFT # kps: {}, descriptors: {}\".format(len(kps), descs.shape))\n",
        "siftKP = cv2.drawKeypoints(img1, kps, img1, flags=cv2.DRAW_MATCHES_FLAGS_DRAW_RICH_KEYPOINTS)\n",
        "\n",
        "img1 = cv2.imread('cameraman.tif')  \n",
        "brisk = cv2.BRISK_create()\n",
        "(kps, descs) = brisk.detectAndCompute(img1, None)\n",
        "print(\"BRISK # kps: {}, descriptors: {}\".format(len(kps), descs.shape))\n",
        "briskKP = cv2.drawKeypoints(img1, kps, img1, flags=cv2.DRAW_MATCHES_FLAGS_DRAW_RICH_KEYPOINTS)\n",
        "\n",
        "img1 = cv2.imread('cameraman.tif')  \n",
        "surf = cv2.xfeatures2d.SURF_create()\n",
        "(kps, descs) = surf.detectAndCompute(img1, None)\n",
        "print(\"SURF # kps: {}, descriptors: {}\".format(len(kps), descs.shape))\n",
        "surfKP = cv2.drawKeypoints(img1, kps, img1, flags=cv2.DRAW_MATCHES_FLAGS_DRAW_RICH_KEYPOINTS)\n",
        "\n",
        "img1 = cv2.imread('cameraman.tif')  \n",
        "kaze = cv2.KAZE_create()\n",
        "(kps, descs) = kaze.detectAndCompute(img1, None)\n",
        "print(\"KAZE # kps: {}, descriptors: {}\".format(len(kps), descs.shape))\n",
        "kazeKP = cv2.drawKeypoints(img1, kps, img1, flags=cv2.DRAW_MATCHES_FLAGS_DRAW_RICH_KEYPOINTS)\n",
        "\n",
        "img1 = cv2.imread('cameraman.tif')  \n",
        "akaze = cv2.AKAZE_create()\n",
        "(kps, descs) = akaze.detectAndCompute(img1, None)\n",
        "print(\"AKAZE # kps: {}, descriptors: {}\".format(len(kps), descs.shape))\n",
        "akazeKP = cv2.drawKeypoints(img1, kps, img1, flags=cv2.DRAW_MATCHES_FLAGS_DRAW_RICH_KEYPOINTS)\n",
        "\n",
        "img1 = cv2.imread('cameraman.tif')  \n",
        "fast = cv2.FastFeatureDetector_create()\n",
        "#(kps, descs) = fast.detect(img,None)\n",
        "print(\"FAST # kps: {}, descriptors: {}\".format(len(kps), descs.shape))"
      ],
      "execution_count": null,
      "outputs": []
    },
    {
      "cell_type": "code",
      "metadata": {
        "id": "woufHXGcrh9h",
        "collapsed": true
      },
      "source": [
        "fig, axes = plt.subplots(ncols=5, figsize=(35, 35))\n",
        "\n",
        "ax = axes.ravel()\n",
        "ax[0] = plt.subplot(1, 5, 1)\n",
        "ax[1] = plt.subplot(1, 5, 2)\n",
        "ax[2] = plt.subplot(1, 5, 3)\n",
        "ax[3] = plt.subplot(1, 5, 4)\n",
        "ax[4] = plt.subplot(1, 5, 5)\n",
        "\n",
        "ax[0].imshow(kazeKP)\n",
        "ax[0].set_title('KAZE')\n",
        "ax[0].axis('off')\n",
        "\n",
        "ax[1].imshow(akazeKP)\n",
        "ax[1].set_title('AKAZE')\n",
        "ax[1].axis('off')\n",
        "\n",
        "ax[2].imshow(briskKP)\n",
        "ax[2].set_title('BRISK')\n",
        "ax[2].axis('off')\n",
        "\n",
        "ax[3].imshow(siftKP)\n",
        "ax[3].set_title('SIFT')\n",
        "ax[3].axis('off')\n",
        "\n",
        "ax[4].imshow(surfKP)\n",
        "ax[4].set_title('SURF')\n",
        "ax[4].axis('off')"
      ],
      "execution_count": null,
      "outputs": []
    },
    {
      "cell_type": "code",
      "metadata": {
        "id": "JbKBn0nRwxWt"
      },
      "source": [
        "img = cv2.imread('cameraman.tif')\n",
        "rows, cols, ch = img.shape\n",
        "\n",
        "pts1 = np.float32([[50, 50], \n",
        "                   [200, 50],\n",
        "                   [50, 200]])\n",
        "  \n",
        "pts2 = np.float32([[10, 100],\n",
        "                   [200, 50], \n",
        "                   [100, 250]])\n",
        "  \n",
        "M = cv2.getAffineTransform(pts1, pts2)\n",
        "dst = cv2.warpAffine(img, M, (cols, rows))\n",
        "\n",
        "fig, axes = plt.subplots(ncols=2, figsize=(10, 10))\n",
        "ax = axes.ravel()\n",
        "\n",
        "ax[0].imshow(img)\n",
        "ax[0].set_title('Obraz wejściowy')\n",
        "ax[0].axis('off')\n",
        "\n",
        "ax[1].imshow(dst)\n",
        "ax[1].set_title('Obraz wyjściowy')\n",
        "ax[1].axis('off')\n"
      ],
      "execution_count": null,
      "outputs": []
    },
    {
      "cell_type": "code",
      "metadata": {
        "id": "7VxmkJg1xmIw"
      },
      "source": [
        "(kps1, descs1) = sift.detectAndCompute(img, None)\n",
        "print(\"SRC SIFT # kps: {}, descriptors: {}\".format(len(kps1), descs1.shape))\n",
        "\n",
        "(kps2, descs2) = sift.detectAndCompute(dst, None)\n",
        "print(\"DST SIFT # kps: {}, descriptors: {}\".format(len(kps1), descs1.shape))\n",
        "\n",
        "bf = cv2.BFMatcher()\n",
        "\n",
        "matches = bf.knnMatch(descs1, descs2, k=2)\n",
        "\n",
        "good = []\n",
        "for m,n in matches:\n",
        "    if m.distance < 0.75*n.distance:\n",
        "        good.append([m])\n",
        "\n",
        "matches = sorted(matches, key = lambda x:x[0].distance)\n",
        "\n",
        "img3 = cv2.drawMatchesKnn(img1, kps1, dst, kps2, good, None, flags=2)\n",
        "img4 = cv2.drawMatchesKnn(img1, kps1, dst, kps2, good[:10], None, flags=2)\n",
        "img5 = cv2.drawMatchesKnn(img1, kps1, dst, kps2, matches[:10], None, flags=2)\n",
        "\n",
        "fig, axes = plt.subplots(ncols=3, figsize=(30, 30))\n",
        "ax = axes.ravel()\n",
        "\n",
        "ax[0].imshow(img3)\n",
        "ax[0].set_title('Zaznaczone wszystkie cechy')\n",
        "ax[0].axis('off')\n",
        "\n",
        "ax[1].imshow(img4)\n",
        "ax[1].set_title('Zaznaczone tylko 10 najlepszych')\n",
        "ax[1].axis('off')\n",
        "\n",
        "ax[2].imshow(img5)\n",
        "ax[2].set_title('Zaznaczone tylko 10 o najmniejszej odległości')\n",
        "ax[2].axis('off')"
      ],
      "execution_count": null,
      "outputs": []
    },
    {
      "cell_type": "code",
      "metadata": {
        "id": "isckim7dDHPd"
      },
      "source": [
        "matches = bf.match(descs1, descs2)\n",
        "\n",
        "matches = sorted(matches, key = lambda x:x.distance)\n",
        "\n",
        "img3 = cv2.drawMatches(img1, kps1, dst, kps2, matches, None, flags=2)\n",
        "img4 = cv2.drawMatches(img1, kps1, dst, kps2, matches[:10], None, flags=2)\n",
        "\n",
        "fig, axes = plt.subplots(ncols=2, figsize=(30, 30))\n",
        "ax = axes.ravel()\n",
        "\n",
        "ax[0].imshow(img3)\n",
        "ax[0].set_title('Zaznaczone wszystkie cechy')\n",
        "ax[0].axis('off')\n",
        "\n",
        "ax[1].imshow(img4)\n",
        "ax[1].set_title('Zaznaczone tylko 10 o najmniejszej odległości')\n",
        "ax[1].axis('off')\n"
      ],
      "execution_count": null,
      "outputs": []
    },
    {
      "cell_type": "code",
      "metadata": {
        "id": "hTOMnDZg5Dj4"
      },
      "source": [
        "src_pts = np.float32([kps1[m[0].queryIdx].pt for m in good]).reshape(-1,1,2)\n",
        "dst_pts = np.float32([kps2[m[0].trainIdx].pt for m in good]).reshape(-1,1,2)\n",
        "M, mask = cv2.findHomography(dst_pts, src_pts, cv2.RANSAC, 5.0)\n",
        "matchesMask = mask.ravel().tolist()\n",
        "\n",
        "rest = cv2.warpPerspective(dst, M, (dst.shape[1], dst.shape[0]))\n",
        "\n",
        "fig, axes = plt.subplots(ncols=3, figsize=(30, 30))\n",
        "ax = axes.ravel()\n",
        "\n",
        "ax[0].imshow(img)\n",
        "ax[0].set_title('Obraz oryginalny')\n",
        "ax[0].axis('off')\n",
        "\n",
        "ax[1].imshow(dst)\n",
        "ax[1].set_title('Obraz zniekształcony')\n",
        "ax[1].axis('off')\n",
        "\n",
        "ax[2].imshow(rest)\n",
        "ax[2].set_title('Obraz odtworzony')\n",
        "ax[2].axis('off')\n"
      ],
      "execution_count": null,
      "outputs": []
    }
  ]
}