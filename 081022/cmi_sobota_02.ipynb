{
  "nbformat": 4,
  "nbformat_minor": 0,
  "metadata": {
    "colab": {
      "provenance": [],
      "collapsed_sections": [],
      "authorship_tag": "ABX9TyMcSn8dnRoe6IzP0QobVo/q",
      "include_colab_link": true
    },
    "kernelspec": {
      "name": "python3",
      "display_name": "Python 3"
    },
    "language_info": {
      "name": "python"
    }
  },
  "cells": [
    {
      "cell_type": "markdown",
      "metadata": {
        "id": "view-in-github",
        "colab_type": "text"
      },
      "source": [
        "<a href=\"https://colab.research.google.com/github/rroszczyk/1DI2243/blob/main/081022/cmi_sobota_02.ipynb\" target=\"_parent\"><img src=\"https://colab.research.google.com/assets/colab-badge.svg\" alt=\"Open In Colab\"/></a>"
      ]
    },
    {
      "cell_type": "code",
      "execution_count": 2,
      "metadata": {
        "colab": {
          "base_uri": "https://localhost:8080/"
        },
        "id": "LVSDISy9k78o",
        "outputId": "ca545264-fd4b-4f5d-f8f3-909f15ab570a"
      },
      "outputs": [
        {
          "output_type": "stream",
          "name": "stdout",
          "text": [
            "256 256 256 256\n"
          ]
        }
      ],
      "source": [
        "a = 256\n",
        "b = 0x100\n",
        "c = 0o400\n",
        "d = 0b100000000\n",
        "\n",
        "print(a, b, c, d)"
      ]
    },
    {
      "cell_type": "code",
      "source": [
        "aa = 100.\n",
        "bb = 0.1\n",
        "cc = .1\n",
        "dd = 1e2\n",
        "\n",
        "print(aa, bb, cc, dd)"
      ],
      "metadata": {
        "colab": {
          "base_uri": "https://localhost:8080/"
        },
        "id": "zRew-puVmR08",
        "outputId": "687c50d5-4227-4bda-dbb4-26d1ec38cee9"
      },
      "execution_count": 3,
      "outputs": [
        {
          "output_type": "stream",
          "name": "stdout",
          "text": [
            "100.0 0.1 0.1 100.0\n"
          ]
        }
      ]
    },
    {
      "cell_type": "code",
      "source": [
        "zz = 3,14"
      ],
      "metadata": {
        "id": "Jy5LQPMsmkWq"
      },
      "execution_count": 4,
      "outputs": []
    },
    {
      "cell_type": "code",
      "source": [
        "print(type(a))\n",
        "print(type(aa))\n",
        "print(type(zz))"
      ],
      "metadata": {
        "colab": {
          "base_uri": "https://localhost:8080/"
        },
        "id": "BHet5JPtm2iK",
        "outputId": "bae90949-5c91-4c5d-ed2c-11614e3ebd16"
      },
      "execution_count": 5,
      "outputs": [
        {
          "output_type": "stream",
          "name": "stdout",
          "text": [
            "<class 'int'>\n",
            "<class 'float'>\n",
            "<class 'tuple'>\n"
          ]
        }
      ]
    },
    {
      "cell_type": "code",
      "source": [
        "print(zz)"
      ],
      "metadata": {
        "colab": {
          "base_uri": "https://localhost:8080/"
        },
        "id": "jqpDCizOm91p",
        "outputId": "2cc30c5b-f0fe-4789-be80-a8c870be56cd"
      },
      "execution_count": 6,
      "outputs": [
        {
          "output_type": "stream",
          "name": "stdout",
          "text": [
            "(3, 14)\n"
          ]
        }
      ]
    },
    {
      "cell_type": "code",
      "source": [
        "t = ('a', 'b', 'c', 'd')\n",
        "\n",
        "print(type(t))\n",
        "print(t)"
      ],
      "metadata": {
        "colab": {
          "base_uri": "https://localhost:8080/"
        },
        "id": "hmXZG5kCnDy5",
        "outputId": "f1389934-20eb-4f2b-bf59-adb2f57a8cb3"
      },
      "execution_count": 8,
      "outputs": [
        {
          "output_type": "stream",
          "name": "stdout",
          "text": [
            "<class 'tuple'>\n",
            "('a', 'b', 'c', 'd')\n"
          ]
        }
      ]
    },
    {
      "cell_type": "code",
      "source": [
        "print(t[0])\n",
        "print(t[1])\n",
        "print(t[-1])\n",
        "print(t[1:3])\n",
        "print(t[3])\n",
        "\n",
        "print(t[0:2])\n"
      ],
      "metadata": {
        "colab": {
          "base_uri": "https://localhost:8080/"
        },
        "id": "Ffi8VYkknVrJ",
        "outputId": "d3648083-964a-4332-c24d-5c0953360011"
      },
      "execution_count": 20,
      "outputs": [
        {
          "output_type": "stream",
          "name": "stdout",
          "text": [
            "a\n",
            "b\n",
            "d\n",
            "('b', 'c')\n",
            "d\n",
            "('a', 'b')\n"
          ]
        }
      ]
    },
    {
      "cell_type": "code",
      "source": [
        "a = 10\n",
        "b = 10\n",
        "c = 10\n",
        "\n",
        "print(id(a))\n",
        "print(id(b))\n",
        "print(id(c))\n",
        "\n",
        "d = 1000000\n",
        "e = 1000000\n",
        "print(id(d))\n",
        "print(id(e))\n",
        "\n",
        "aa = 'ala '\n",
        "bb = 'ala ' \n",
        "\n",
        "print(id(aa))\n",
        "print(id(bb))\n"
      ],
      "metadata": {
        "colab": {
          "base_uri": "https://localhost:8080/"
        },
        "id": "ToLZWb9YoH04",
        "outputId": "f237af52-f500-4a69-96b1-fb1590cee855"
      },
      "execution_count": 24,
      "outputs": [
        {
          "output_type": "stream",
          "name": "stdout",
          "text": [
            "11122880\n",
            "11122880\n",
            "11122880\n",
            "139738160457584\n",
            "139738160456912\n",
            "139738160082480\n",
            "139738160079792\n"
          ]
        }
      ]
    },
    {
      "cell_type": "code",
      "source": [
        "print(print)"
      ],
      "metadata": {
        "colab": {
          "base_uri": "https://localhost:8080/"
        },
        "id": "dCQx8y4to8U_",
        "outputId": "0653c131-7602-4858-be8a-7b34eec98185"
      },
      "execution_count": 25,
      "outputs": [
        {
          "output_type": "stream",
          "name": "stdout",
          "text": [
            "<built-in function print>\n"
          ]
        }
      ]
    },
    {
      "cell_type": "code",
      "source": [
        "drukuj = print\n",
        "\n",
        "drukuj(\"Ala ma kota\")"
      ],
      "metadata": {
        "colab": {
          "base_uri": "https://localhost:8080/"
        },
        "id": "l8WokR4BpEkn",
        "outputId": "f8661627-c983-42d7-90b9-89b9b521fbf9"
      },
      "execution_count": 27,
      "outputs": [
        {
          "output_type": "stream",
          "name": "stdout",
          "text": [
            "Ala ma kota\n"
          ]
        }
      ]
    },
    {
      "cell_type": "code",
      "source": [
        "print = 100\n",
        "\n",
        "print(\"Ala ma kota\")"
      ],
      "metadata": {
        "colab": {
          "base_uri": "https://localhost:8080/",
          "height": 201
        },
        "id": "nSPwOi-xpI0K",
        "outputId": "d5a85f69-00f5-4352-e217-c3d2e940aa57"
      },
      "execution_count": 29,
      "outputs": [
        {
          "output_type": "error",
          "ename": "TypeError",
          "evalue": "ignored",
          "traceback": [
            "\u001b[0;31m---------------------------------------------------------------------------\u001b[0m",
            "\u001b[0;31mTypeError\u001b[0m                                 Traceback (most recent call last)",
            "\u001b[0;32m<ipython-input-29-fd84a82479ab>\u001b[0m in \u001b[0;36m<module>\u001b[0;34m\u001b[0m\n\u001b[1;32m      1\u001b[0m \u001b[0mprint\u001b[0m \u001b[0;34m=\u001b[0m \u001b[0;36m100\u001b[0m\u001b[0;34m\u001b[0m\u001b[0;34m\u001b[0m\u001b[0m\n\u001b[1;32m      2\u001b[0m \u001b[0;34m\u001b[0m\u001b[0m\n\u001b[0;32m----> 3\u001b[0;31m \u001b[0mprint\u001b[0m\u001b[0;34m(\u001b[0m\u001b[0;34m\"Ala ma kota\"\u001b[0m\u001b[0;34m)\u001b[0m\u001b[0;34m\u001b[0m\u001b[0;34m\u001b[0m\u001b[0m\n\u001b[0m",
            "\u001b[0;31mTypeError\u001b[0m: 'int' object is not callable"
          ]
        }
      ]
    },
    {
      "cell_type": "code",
      "source": [
        "drukuj(type(print))"
      ],
      "metadata": {
        "colab": {
          "base_uri": "https://localhost:8080/"
        },
        "id": "YgiemcGypP35",
        "outputId": "f30b4bc9-4349-4435-b79f-9e4771c3b08c"
      },
      "execution_count": 30,
      "outputs": [
        {
          "output_type": "stream",
          "name": "stdout",
          "text": [
            "<class 'int'>\n"
          ]
        }
      ]
    },
    {
      "cell_type": "code",
      "source": [
        "print = drukuj\n",
        "\n",
        "print(\"Ala ma kota\")"
      ],
      "metadata": {
        "colab": {
          "base_uri": "https://localhost:8080/"
        },
        "id": "W43U61oGpYOG",
        "outputId": "9e5586c7-8da8-4ab2-8e38-fa467cabdcc4"
      },
      "execution_count": 32,
      "outputs": [
        {
          "output_type": "stream",
          "name": "stdout",
          "text": [
            "Ala ma kota\n"
          ]
        }
      ]
    },
    {
      "cell_type": "code",
      "source": [
        "print(print.__doc__)"
      ],
      "metadata": {
        "colab": {
          "base_uri": "https://localhost:8080/"
        },
        "id": "19U7IEJ0pfy5",
        "outputId": "7c6400e4-a8e0-4bdb-a982-2bb683409de6"
      },
      "execution_count": 35,
      "outputs": [
        {
          "output_type": "stream",
          "name": "stdout",
          "text": [
            "print(value, ..., sep=' ', end='\\n', file=sys.stdout, flush=False)\n",
            "\n",
            "Prints the values to a stream, or to sys.stdout by default.\n",
            "Optional keyword arguments:\n",
            "file:  a file-like object (stream); defaults to the current sys.stdout.\n",
            "sep:   string inserted between values, default a space.\n",
            "end:   string appended after the last value, default a newline.\n",
            "flush: whether to forcibly flush the stream.\n"
          ]
        }
      ]
    },
    {
      "cell_type": "code",
      "source": [
        "a = 'Ala ma kota'\n",
        "b = \"Ala ma kota\"\n",
        "c = \"Ala ma kot'a\"\n",
        "d = 'Ala ma kot\\'a'\n",
        "\n",
        "print(a, b, c, d)"
      ],
      "metadata": {
        "colab": {
          "base_uri": "https://localhost:8080/"
        },
        "id": "3VxJJwwXp_Rm",
        "outputId": "6abfdb2c-8f17-4002-8d6f-b2db773ad813"
      },
      "execution_count": 36,
      "outputs": [
        {
          "output_type": "stream",
          "name": "stdout",
          "text": [
            "Ala ma kota Ala ma kota Ala ma kot'a Ala ma kot'a\n"
          ]
        }
      ]
    },
    {
      "cell_type": "code",
      "source": [
        "A = '''Ala ma kota'''\n",
        "B = \"\"\"Ala ma kota\"\"\"\n",
        "\n",
        "\n",
        "C = '''To jest bardzo długi komentarz\n",
        "który nie mieści sie\n",
        "w jednej linii'''\n",
        "\n",
        "print(C)"
      ],
      "metadata": {
        "colab": {
          "base_uri": "https://localhost:8080/"
        },
        "id": "L_xaJ-4UqTa1",
        "outputId": "98f7e4a5-e719-4c4e-9c45-3a8e6c0dc336"
      },
      "execution_count": 37,
      "outputs": [
        {
          "output_type": "stream",
          "name": "stdout",
          "text": [
            "To jest bardzo długi komentarz\n",
            "który nie mieści sie\n",
            "w jednej linii\n"
          ]
        }
      ]
    },
    {
      "cell_type": "code",
      "source": [
        "\"\"\"\n",
        "To jest komentarz\n",
        "\"\"\""
      ],
      "metadata": {
        "colab": {
          "base_uri": "https://localhost:8080/",
          "height": 35
        },
        "id": "ts8JBd45q3e-",
        "outputId": "5f07c9e4-7ee2-478c-f179-ab0f9f6833ca"
      },
      "execution_count": 38,
      "outputs": [
        {
          "output_type": "execute_result",
          "data": {
            "text/plain": [
              "'\\nTo jest komentarz\\n'"
            ],
            "application/vnd.google.colaboratory.intrinsic+json": {
              "type": "string"
            }
          },
          "metadata": {},
          "execution_count": 38
        }
      ]
    },
    {
      "cell_type": "code",
      "source": [
        "def funkcja():\n",
        "  \"\"\"\n",
        "  To jest komentarz\n",
        "  \"\"\"\n",
        "  pass\n",
        "\n"
      ],
      "metadata": {
        "id": "zXefPSAQrASl"
      },
      "execution_count": 39,
      "outputs": []
    },
    {
      "cell_type": "code",
      "source": [
        "def f1():\n",
        " pass\n",
        "\n",
        "def f2():\n",
        " pass  # -> {}\n",
        "\n",
        "f1()\n",
        "f2()"
      ],
      "metadata": {
        "id": "k1YYiQFirjck"
      },
      "execution_count": 41,
      "outputs": []
    },
    {
      "cell_type": "code",
      "source": [
        "print(funkcja.__doc__)"
      ],
      "metadata": {
        "colab": {
          "base_uri": "https://localhost:8080/"
        },
        "id": "j9DCwBoGrHPN",
        "outputId": "203c2201-bc92-4894-9960-a8318d5f78a1"
      },
      "execution_count": 40,
      "outputs": [
        {
          "output_type": "stream",
          "name": "stdout",
          "text": [
            "\n",
            "  To jest komentarz\n",
            "  \n"
          ]
        }
      ]
    },
    {
      "cell_type": "code",
      "source": [
        "l = [1, 2, 3, 4, 5, 6, 7, 8, 9]\n",
        "\n",
        "print(type(l))\n",
        "print(l)"
      ],
      "metadata": {
        "colab": {
          "base_uri": "https://localhost:8080/"
        },
        "id": "RdCQTbMyr5Pl",
        "outputId": "e6e6783f-569a-4070-cb93-75dbeba46b45"
      },
      "execution_count": 42,
      "outputs": [
        {
          "output_type": "stream",
          "name": "stdout",
          "text": [
            "<class 'list'>\n",
            "[1, 2, 3, 4, 5, 6, 7, 8, 9]\n"
          ]
        }
      ]
    },
    {
      "cell_type": "code",
      "source": [
        "print(l[3:7])"
      ],
      "metadata": {
        "colab": {
          "base_uri": "https://localhost:8080/"
        },
        "id": "AHZWk111sFYO",
        "outputId": "b1d7f9a6-28e1-4273-8119-3fdb8a0e2879"
      },
      "execution_count": 43,
      "outputs": [
        {
          "output_type": "stream",
          "name": "stdout",
          "text": [
            "[4, 5, 6, 7]\n"
          ]
        }
      ]
    },
    {
      "cell_type": "code",
      "source": [
        "l.append(100)\n",
        "print(l)\n",
        "print(l.pop())\n",
        "print(l)"
      ],
      "metadata": {
        "colab": {
          "base_uri": "https://localhost:8080/"
        },
        "id": "izlyJIx2sJC2",
        "outputId": "9ebc6922-6a79-480a-d2ac-eede6ff1a413"
      },
      "execution_count": 44,
      "outputs": [
        {
          "output_type": "stream",
          "name": "stdout",
          "text": [
            "[1, 2, 3, 4, 5, 6, 7, 8, 9, 100]\n",
            "100\n",
            "[1, 2, 3, 4, 5, 6, 7, 8, 9]\n"
          ]
        }
      ]
    },
    {
      "cell_type": "code",
      "source": [
        "l.append(100)\n",
        "print(l)\n",
        "print(l.pop(0))\n",
        "print(l)"
      ],
      "metadata": {
        "colab": {
          "base_uri": "https://localhost:8080/"
        },
        "id": "Q5RcGXQwsYcz",
        "outputId": "f302eb40-ceab-4816-a604-3ecaacdb848e"
      },
      "execution_count": 45,
      "outputs": [
        {
          "output_type": "stream",
          "name": "stdout",
          "text": [
            "[1, 2, 3, 4, 5, 6, 7, 8, 9, 100]\n",
            "1\n",
            "[2, 3, 4, 5, 6, 7, 8, 9, 100]\n"
          ]
        }
      ]
    },
    {
      "cell_type": "code",
      "source": [
        "for i in l:\n",
        "  print(i, end=' ')"
      ],
      "metadata": {
        "colab": {
          "base_uri": "https://localhost:8080/"
        },
        "id": "-mdgy5R_sr8c",
        "outputId": "b6f23246-b751-4c64-b264-22b9314b41ac"
      },
      "execution_count": 61,
      "outputs": [
        {
          "output_type": "stream",
          "name": "stdout",
          "text": [
            "2 3 4 5 6 7 8 9 100 "
          ]
        }
      ]
    },
    {
      "cell_type": "code",
      "source": [
        "for i in range(1, 10, 2):\n",
        "  print(i, end=' ')"
      ],
      "metadata": {
        "colab": {
          "base_uri": "https://localhost:8080/"
        },
        "id": "ZdvdwxATtEx0",
        "outputId": "0d31fee7-347b-4d6b-f04c-f408f46898a6"
      },
      "execution_count": 51,
      "outputs": [
        {
          "output_type": "stream",
          "name": "stdout",
          "text": [
            "1 3 5 7 9 "
          ]
        }
      ]
    },
    {
      "cell_type": "code",
      "source": [
        "print('a', 'b', 'c', 'd', sep='-', end='*')\n",
        "print('a', 'b', 'c', 'd', sep='-')"
      ],
      "metadata": {
        "colab": {
          "base_uri": "https://localhost:8080/"
        },
        "id": "Vaw8uh2btjx6",
        "outputId": "37c1f1f4-f7a7-43cc-8bc6-4398c57e29e8"
      },
      "execution_count": 59,
      "outputs": [
        {
          "output_type": "stream",
          "name": "stdout",
          "text": [
            "a-b-c-d*a-b-c-d\n"
          ]
        }
      ]
    },
    {
      "cell_type": "code",
      "source": [
        "slownik = {1:'jeden', 2:'dwa', 3:'trzy', 4:'cztery'}\n",
        "\n",
        "print(type(slownik))\n",
        "print(slownik)"
      ],
      "metadata": {
        "colab": {
          "base_uri": "https://localhost:8080/"
        },
        "id": "P2HccMd5uJCJ",
        "outputId": "da8f1008-b0f0-446d-fe09-4ab931b60ab4"
      },
      "execution_count": 63,
      "outputs": [
        {
          "output_type": "stream",
          "name": "stdout",
          "text": [
            "<class 'dict'>\n",
            "{1: 'jeden', 2: 'dwa', 3: 'trzy', 4: 'cztery'}\n"
          ]
        }
      ]
    },
    {
      "cell_type": "code",
      "source": [
        "print(slownik[3])"
      ],
      "metadata": {
        "colab": {
          "base_uri": "https://localhost:8080/"
        },
        "id": "IN_5t6U_ubJ4",
        "outputId": "65139e6c-f8f2-4838-c0da-5954cce2bf99"
      },
      "execution_count": 64,
      "outputs": [
        {
          "output_type": "stream",
          "name": "stdout",
          "text": [
            "trzy\n"
          ]
        }
      ]
    },
    {
      "cell_type": "code",
      "source": [
        "for z in slownik:\n",
        "  print(z)"
      ],
      "metadata": {
        "colab": {
          "base_uri": "https://localhost:8080/"
        },
        "id": "l1s-op3Muf63",
        "outputId": "7ee807f6-1014-403b-ac5a-7705a4444df8"
      },
      "execution_count": 65,
      "outputs": [
        {
          "output_type": "stream",
          "name": "stdout",
          "text": [
            "1\n",
            "2\n",
            "3\n",
            "4\n"
          ]
        }
      ]
    },
    {
      "cell_type": "code",
      "source": [
        "for z in slownik.items():\n",
        "  print(z)"
      ],
      "metadata": {
        "colab": {
          "base_uri": "https://localhost:8080/"
        },
        "id": "haXcZEUhuk8x",
        "outputId": "26f6b188-b949-4686-fe7c-f946e799b28d"
      },
      "execution_count": 68,
      "outputs": [
        {
          "output_type": "stream",
          "name": "stdout",
          "text": [
            "(1, 'jeden')\n",
            "(2, 'dwa')\n",
            "(3, 'trzy')\n",
            "(4, 'cztery')\n"
          ]
        }
      ]
    },
    {
      "cell_type": "code",
      "source": [
        "zz = 3,14\n",
        "print(zz)"
      ],
      "metadata": {
        "colab": {
          "base_uri": "https://localhost:8080/"
        },
        "id": "DCALt63MuucJ",
        "outputId": "01b13638-f5b8-4d7d-8711-2cf4a4f3fd84"
      },
      "execution_count": 70,
      "outputs": [
        {
          "output_type": "stream",
          "name": "stdout",
          "text": [
            "(3, 14)\n"
          ]
        }
      ]
    },
    {
      "cell_type": "code",
      "source": [
        "a, b = zz\n",
        "\n",
        "print(a, b, sep='\\n')"
      ],
      "metadata": {
        "colab": {
          "base_uri": "https://localhost:8080/"
        },
        "id": "1xNNZo2xuz5L",
        "outputId": "72d063a8-f6b8-430c-f596-6a1b4b22f533"
      },
      "execution_count": 71,
      "outputs": [
        {
          "output_type": "stream",
          "name": "stdout",
          "text": [
            "3\n",
            "14\n"
          ]
        }
      ]
    },
    {
      "cell_type": "code",
      "source": [
        "for k, v in slownik.items():\n",
        "  print(f\"{k}:{v}\")"
      ],
      "metadata": {
        "colab": {
          "base_uri": "https://localhost:8080/"
        },
        "id": "JMC678Z8u9Cy",
        "outputId": "4d2ef9df-98ef-471c-f654-c72a983abe2a"
      },
      "execution_count": 74,
      "outputs": [
        {
          "output_type": "stream",
          "name": "stdout",
          "text": [
            "1:jeden\n",
            "2:dwa\n",
            "3:trzy\n",
            "4:cztery\n"
          ]
        }
      ]
    },
    {
      "cell_type": "code",
      "source": [
        "def dodaj(a, b):\n",
        "  return a + b\n",
        "\n",
        "print(dodaj(10, 5))"
      ],
      "metadata": {
        "colab": {
          "base_uri": "https://localhost:8080/"
        },
        "id": "Ro8UJUrDvbD5",
        "outputId": "57957815-bf42-4696-c70d-76084d94a12a"
      },
      "execution_count": 75,
      "outputs": [
        {
          "output_type": "stream",
          "name": "stdout",
          "text": [
            "15\n"
          ]
        }
      ]
    },
    {
      "cell_type": "code",
      "source": [
        "def dodaj(a = 0, b = 0):\n",
        "  print(f\"dodaj: {a} + {b} = {a+b}\")\n",
        "  return a + b\n",
        "\n",
        "print(dodaj())\n",
        "print(dodaj(b=100))\n",
        "print(dodaj(5, 10))\n"
      ],
      "metadata": {
        "colab": {
          "base_uri": "https://localhost:8080/"
        },
        "id": "4TnGW891vr6f",
        "outputId": "d9eaf7a9-85cc-4cab-af1c-6d9add9a00e3"
      },
      "execution_count": 79,
      "outputs": [
        {
          "output_type": "stream",
          "name": "stdout",
          "text": [
            "dodaj: 0 + 0 = 0\n",
            "0\n",
            "dodaj: 0 + 100 = 100\n",
            "100\n",
            "dodaj: 5 + 10 = 15\n",
            "15\n"
          ]
        }
      ]
    },
    {
      "cell_type": "code",
      "source": [
        "def dodaj(*liczby, wypisz = False):\n",
        "  suma = 0\n",
        "  if wypisz:  \n",
        "    print(\"liczby: \", end='')\n",
        "  for i in liczby:\n",
        "    if wypisz:\n",
        "      print(i, end = ' ')\n",
        "    suma += i   # suma = suma + i\n",
        "  return suma\n",
        "\n",
        "print(dodaj(10, 5, 5))\n",
        "print(dodaj(10, 5, 5, 5, wypisz = True))\n",
        "print(dodaj(10, 5))\n",
        "\n",
        "print(dodaj(10, 5, 5, 5, 5, 5, 5, 5, 5))"
      ],
      "metadata": {
        "colab": {
          "base_uri": "https://localhost:8080/"
        },
        "id": "_jiTFGuLwKWX",
        "outputId": "ec11d2cc-2b6b-48b3-d286-cfc0583a2253"
      },
      "execution_count": 89,
      "outputs": [
        {
          "output_type": "stream",
          "name": "stdout",
          "text": [
            "20\n",
            "liczby: 10 5 5 5 25\n",
            "15\n",
            "50\n"
          ]
        }
      ]
    },
    {
      "cell_type": "code",
      "source": [
        "def dane(**argumenty):\n",
        "  print(\"*\"*40)\n",
        "  for k, v in argumenty.items():\n",
        "    print(f\"{k}:{v}\")\n",
        "\n",
        "dane(imie=\"Radosław\", nazwisko=\"Roszczyk\", email=\"radoslaw.roszczyk@pw.edu.pl\")\n",
        "dane(imie=\"Radosław\", nazwisko=\"Roszczyk\", email=\"radoslaw.roszczyk@pw.edu.pl\", wydział=\"Elektryczny\")\n",
        "dane(name=\"Radosław\", lastname=\"Roszczyk\")"
      ],
      "metadata": {
        "colab": {
          "base_uri": "https://localhost:8080/"
        },
        "id": "f0CWZSNrxN_l",
        "outputId": "8da9d673-5536-4b15-fadc-7bc9b7f67e00"
      },
      "execution_count": 98,
      "outputs": [
        {
          "output_type": "stream",
          "name": "stdout",
          "text": [
            "****************************************\n",
            "imie:Radosław\n",
            "nazwisko:Roszczyk\n",
            "email:radoslaw.roszczyk@pw.edu.pl\n",
            "****************************************\n",
            "imie:Radosław\n",
            "nazwisko:Roszczyk\n",
            "email:radoslaw.roszczyk@pw.edu.pl\n",
            "wydział:Elektryczny\n",
            "****************************************\n",
            "name:Radosław\n",
            "lastname:Roszczyk\n"
          ]
        }
      ]
    }
  ]
}